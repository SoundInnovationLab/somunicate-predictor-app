{
 "cells": [
  {
   "cell_type": "markdown",
   "metadata": {},
   "source": []
  },
  {
   "cell_type": "code",
   "execution_count": 2,
   "metadata": {},
   "outputs": [],
   "source": [
    "import pandas as pd\n",
    "import numpy as np"
   ]
  },
  {
   "cell_type": "code",
   "execution_count": 8,
   "metadata": {},
   "outputs": [
    {
     "name": "stdout",
     "output_type": "stream",
     "text": [
      "       sound  having_finished_successfully  having_a_problem  process_ongoing  \\\n",
      "0  /61/7.mp3                      0.100069         -0.123218        -0.024626   \n",
      "1  /61/6.mp3                     -0.206565          0.057796        -0.098546   \n",
      "2  /61/4.mp3                     -0.050743         -0.249195        -0.075718   \n",
      "3  /61/5.mp3                     -0.098216         -0.109867        -0.020442   \n",
      "4  /61/1.mp3                      0.049491         -0.255691        -0.045377   \n",
      "\n",
      "   being_ready  having_news  being_empty  shutting_down  negative_warnings  \\\n",
      "0     0.056131     0.120905    -0.126749      -0.140022          -0.091052   \n",
      "1    -0.222701    -0.171803     0.060798      -0.005389           0.098484   \n",
      "2     0.065463    -0.081324    -0.220188      -0.085998          -0.261345   \n",
      "3    -0.082911    -0.093990    -0.101738      -0.081675          -0.107787   \n",
      "4     0.104160     0.027286    -0.228140      -0.158562          -0.252735   \n",
      "\n",
      "   urgency_reminder  encouraging_confirmations  starting_prompts  \\\n",
      "0          0.085568                   0.069713          0.025888   \n",
      "1         -0.071744                  -0.262295         -0.227710   \n",
      "2         -0.128040                  -0.018095          0.016601   \n",
      "3         -0.095152                  -0.117065         -0.077518   \n",
      "4         -0.038904                   0.066869          0.084664   \n",
      "\n",
      "   waiting_prompts  sophistication  positivity  progressiveness  dominance  \\\n",
      "0        -0.013357        0.039040    0.091409         0.031255  -0.031292   \n",
      "1        -0.011465       -0.217385   -0.213509        -0.150969  -0.003031   \n",
      "2        -0.150610        0.041070    0.037442         0.020411  -0.038732   \n",
      "3        -0.043238       -0.031422   -0.058025        -0.031379  -0.035500   \n",
      "4        -0.138483        0.079410    0.109354         0.061450  -0.065467   \n",
      "\n",
      "   solidity    purity  playfulness  \n",
      "0  0.060956  0.073158     0.010040  \n",
      "1 -0.112343 -0.127896    -0.184396  \n",
      "2  0.001537 -0.077391     0.002914  \n",
      "3 -0.042040 -0.081435    -0.062984  \n",
      "4  0.032363 -0.027036     0.003277  \n",
      "                       dimension       min       max\n",
      "0   having_finished_successfully -0.374574  0.137066\n",
      "1               having_a_problem -0.333155  0.169877\n",
      "2                process_ongoing -0.314498  0.038074\n",
      "3                    being_ready -0.405667  0.142422\n",
      "4                    having_news -0.376767  0.134344\n",
      "5                    being_empty -0.318296  0.146364\n",
      "6                  shutting_down -0.270684  0.100809\n",
      "7              negative_warnings -0.331859  0.207164\n",
      "8               urgency_reminder -0.301940  0.108879\n",
      "9      encouraging_confirmations -0.445559  0.138376\n",
      "10              starting_prompts -0.414740  0.126561\n",
      "11               waiting_prompts -0.235506  0.067507\n",
      "12                sophistication -0.374758  0.138413\n",
      "13                    positivity -0.397485  0.164985\n",
      "14               progressiveness -0.279270  0.099017\n",
      "15                     dominance -0.173922  0.036990\n",
      "16                      solidity -0.239890  0.070474\n",
      "17                        purity -0.241723  0.073158\n",
      "18                   playfulness -0.304709  0.070811\n"
     ]
    }
   ],
   "source": [
    "# load preadiction data \n",
    "\n",
    "pred_df = pd.read_json('data/minmax/multioutput_all/predictions_no_industry.json', orient='records')\n",
    "print(pred_df.head())\n",
    "\n",
    "minmax_df = pd.DataFrame(columns=['dimension', 'min', 'max'])\n",
    "\n",
    "for col_idx, col in enumerate(pred_df.columns[1:]):\n",
    "    minmax_df.loc[col_idx] = [col, pred_df[col].min(), pred_df[col].max()]\n",
    "\n",
    "print(minmax_df)\n",
    "minmax_df.to_json('data/minmax/multioutput_all/minmax_no_industry.json', orient='records')"
   ]
  }
 ],
 "metadata": {
  "kernelspec": {
   "display_name": "somunicate",
   "language": "python",
   "name": "python3"
  },
  "language_info": {
   "codemirror_mode": {
    "name": "ipython",
    "version": 3
   },
   "file_extension": ".py",
   "mimetype": "text/x-python",
   "name": "python",
   "nbconvert_exporter": "python",
   "pygments_lexer": "ipython3",
   "version": "3.10.14"
  }
 },
 "nbformat": 4,
 "nbformat_minor": 2
}
